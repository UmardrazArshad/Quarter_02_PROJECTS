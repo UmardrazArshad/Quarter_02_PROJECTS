{
  "nbformat": 4,
  "nbformat_minor": 0,
  "metadata": {
    "colab": {
      "provenance": [],
      "authorship_tag": "ABX9TyN7rAH8CMc5NvUBxfW1+OMo",
      "include_colab_link": true
    },
    "kernelspec": {
      "name": "python3",
      "display_name": "Python 3"
    },
    "language_info": {
      "name": "python"
    }
  },
  "cells": [
    {
      "cell_type": "markdown",
      "metadata": {
        "id": "view-in-github",
        "colab_type": "text"
      },
      "source": [
        "<a href=\"https://colab.research.google.com/github/UmardrazArshad/Quarter_02_PROJECTS/blob/main/01_LangChain_Gemini_Flash_2_0.ipynb\" target=\"_parent\"><img src=\"https://colab.research.google.com/assets/colab-badge.svg\" alt=\"Open In Colab\"/></a>"
      ]
    },
    {
      "cell_type": "markdown",
      "source": [
        "# **LangChain and Google Gemini Flash 2.0 Integration**"
      ],
      "metadata": {
        "id": "vSu3Xq7GPM_c"
      }
    },
    {
      "cell_type": "code",
      "execution_count": null,
      "metadata": {
        "colab": {
          "base_uri": "https://localhost:8080/"
        },
        "id": "MOvzH0X-3hee",
        "outputId": "2695ba93-a329-4e84-dadc-f9ac2a57e5ca"
      },
      "outputs": [
        {
          "output_type": "stream",
          "name": "stdout",
          "text": [
            "Requirement already satisfied: langchain in /usr/local/lib/python3.10/dist-packages (0.3.12)\n",
            "Collecting langchain-google-genai\n",
            "  Downloading langchain_google_genai-2.0.7-py3-none-any.whl.metadata (3.6 kB)\n",
            "Requirement already satisfied: PyYAML>=5.3 in /usr/local/lib/python3.10/dist-packages (from langchain) (6.0.2)\n",
            "Requirement already satisfied: SQLAlchemy<3,>=1.4 in /usr/local/lib/python3.10/dist-packages (from langchain) (2.0.36)\n",
            "Requirement already satisfied: aiohttp<4.0.0,>=3.8.3 in /usr/local/lib/python3.10/dist-packages (from langchain) (3.11.10)\n",
            "Requirement already satisfied: async-timeout<5.0.0,>=4.0.0 in /usr/local/lib/python3.10/dist-packages (from langchain) (4.0.3)\n",
            "Requirement already satisfied: langchain-core<0.4.0,>=0.3.25 in /usr/local/lib/python3.10/dist-packages (from langchain) (0.3.25)\n",
            "Requirement already satisfied: langchain-text-splitters<0.4.0,>=0.3.3 in /usr/local/lib/python3.10/dist-packages (from langchain) (0.3.3)\n",
            "Requirement already satisfied: langsmith<0.3,>=0.1.17 in /usr/local/lib/python3.10/dist-packages (from langchain) (0.2.3)\n",
            "Requirement already satisfied: numpy<2,>=1.22.4 in /usr/local/lib/python3.10/dist-packages (from langchain) (1.26.4)\n",
            "Requirement already satisfied: pydantic<3.0.0,>=2.7.4 in /usr/local/lib/python3.10/dist-packages (from langchain) (2.10.3)\n",
            "Requirement already satisfied: requests<3,>=2 in /usr/local/lib/python3.10/dist-packages (from langchain) (2.32.3)\n",
            "Requirement already satisfied: tenacity!=8.4.0,<10,>=8.1.0 in /usr/local/lib/python3.10/dist-packages (from langchain) (9.0.0)\n",
            "Collecting filetype<2.0.0,>=1.2.0 (from langchain-google-genai)\n",
            "  Downloading filetype-1.2.0-py2.py3-none-any.whl.metadata (6.5 kB)\n",
            "Requirement already satisfied: google-generativeai<0.9.0,>=0.8.0 in /usr/local/lib/python3.10/dist-packages (from langchain-google-genai) (0.8.3)\n",
            "Requirement already satisfied: aiohappyeyeballs>=2.3.0 in /usr/local/lib/python3.10/dist-packages (from aiohttp<4.0.0,>=3.8.3->langchain) (2.4.4)\n",
            "Requirement already satisfied: aiosignal>=1.1.2 in /usr/local/lib/python3.10/dist-packages (from aiohttp<4.0.0,>=3.8.3->langchain) (1.3.2)\n",
            "Requirement already satisfied: attrs>=17.3.0 in /usr/local/lib/python3.10/dist-packages (from aiohttp<4.0.0,>=3.8.3->langchain) (24.3.0)\n",
            "Requirement already satisfied: frozenlist>=1.1.1 in /usr/local/lib/python3.10/dist-packages (from aiohttp<4.0.0,>=3.8.3->langchain) (1.5.0)\n",
            "Requirement already satisfied: multidict<7.0,>=4.5 in /usr/local/lib/python3.10/dist-packages (from aiohttp<4.0.0,>=3.8.3->langchain) (6.1.0)\n",
            "Requirement already satisfied: propcache>=0.2.0 in /usr/local/lib/python3.10/dist-packages (from aiohttp<4.0.0,>=3.8.3->langchain) (0.2.1)\n",
            "Requirement already satisfied: yarl<2.0,>=1.17.0 in /usr/local/lib/python3.10/dist-packages (from aiohttp<4.0.0,>=3.8.3->langchain) (1.18.3)\n",
            "Requirement already satisfied: google-ai-generativelanguage==0.6.10 in /usr/local/lib/python3.10/dist-packages (from google-generativeai<0.9.0,>=0.8.0->langchain-google-genai) (0.6.10)\n",
            "Requirement already satisfied: google-api-core in /usr/local/lib/python3.10/dist-packages (from google-generativeai<0.9.0,>=0.8.0->langchain-google-genai) (2.19.2)\n",
            "Requirement already satisfied: google-api-python-client in /usr/local/lib/python3.10/dist-packages (from google-generativeai<0.9.0,>=0.8.0->langchain-google-genai) (2.155.0)\n",
            "Requirement already satisfied: google-auth>=2.15.0 in /usr/local/lib/python3.10/dist-packages (from google-generativeai<0.9.0,>=0.8.0->langchain-google-genai) (2.27.0)\n",
            "Requirement already satisfied: protobuf in /usr/local/lib/python3.10/dist-packages (from google-generativeai<0.9.0,>=0.8.0->langchain-google-genai) (4.25.5)\n",
            "Requirement already satisfied: tqdm in /usr/local/lib/python3.10/dist-packages (from google-generativeai<0.9.0,>=0.8.0->langchain-google-genai) (4.67.1)\n",
            "Requirement already satisfied: typing-extensions in /usr/local/lib/python3.10/dist-packages (from google-generativeai<0.9.0,>=0.8.0->langchain-google-genai) (4.12.2)\n",
            "Requirement already satisfied: proto-plus<2.0.0dev,>=1.22.3 in /usr/local/lib/python3.10/dist-packages (from google-ai-generativelanguage==0.6.10->google-generativeai<0.9.0,>=0.8.0->langchain-google-genai) (1.25.0)\n",
            "Requirement already satisfied: jsonpatch<2.0,>=1.33 in /usr/local/lib/python3.10/dist-packages (from langchain-core<0.4.0,>=0.3.25->langchain) (1.33)\n",
            "Requirement already satisfied: packaging<25,>=23.2 in /usr/local/lib/python3.10/dist-packages (from langchain-core<0.4.0,>=0.3.25->langchain) (24.2)\n",
            "Requirement already satisfied: httpx<1,>=0.23.0 in /usr/local/lib/python3.10/dist-packages (from langsmith<0.3,>=0.1.17->langchain) (0.28.1)\n",
            "Requirement already satisfied: orjson<4.0.0,>=3.9.14 in /usr/local/lib/python3.10/dist-packages (from langsmith<0.3,>=0.1.17->langchain) (3.10.12)\n",
            "Requirement already satisfied: requests-toolbelt<2.0.0,>=1.0.0 in /usr/local/lib/python3.10/dist-packages (from langsmith<0.3,>=0.1.17->langchain) (1.0.0)\n",
            "Requirement already satisfied: annotated-types>=0.6.0 in /usr/local/lib/python3.10/dist-packages (from pydantic<3.0.0,>=2.7.4->langchain) (0.7.0)\n",
            "Requirement already satisfied: pydantic-core==2.27.1 in /usr/local/lib/python3.10/dist-packages (from pydantic<3.0.0,>=2.7.4->langchain) (2.27.1)\n",
            "Requirement already satisfied: charset-normalizer<4,>=2 in /usr/local/lib/python3.10/dist-packages (from requests<3,>=2->langchain) (3.4.0)\n",
            "Requirement already satisfied: idna<4,>=2.5 in /usr/local/lib/python3.10/dist-packages (from requests<3,>=2->langchain) (3.10)\n",
            "Requirement already satisfied: urllib3<3,>=1.21.1 in /usr/local/lib/python3.10/dist-packages (from requests<3,>=2->langchain) (2.2.3)\n",
            "Requirement already satisfied: certifi>=2017.4.17 in /usr/local/lib/python3.10/dist-packages (from requests<3,>=2->langchain) (2024.12.14)\n",
            "Requirement already satisfied: greenlet!=0.4.17 in /usr/local/lib/python3.10/dist-packages (from SQLAlchemy<3,>=1.4->langchain) (3.1.1)\n",
            "Requirement already satisfied: googleapis-common-protos<2.0.dev0,>=1.56.2 in /usr/local/lib/python3.10/dist-packages (from google-api-core->google-generativeai<0.9.0,>=0.8.0->langchain-google-genai) (1.66.0)\n",
            "Requirement already satisfied: cachetools<6.0,>=2.0.0 in /usr/local/lib/python3.10/dist-packages (from google-auth>=2.15.0->google-generativeai<0.9.0,>=0.8.0->langchain-google-genai) (5.5.0)\n",
            "Requirement already satisfied: pyasn1-modules>=0.2.1 in /usr/local/lib/python3.10/dist-packages (from google-auth>=2.15.0->google-generativeai<0.9.0,>=0.8.0->langchain-google-genai) (0.4.1)\n",
            "Requirement already satisfied: rsa<5,>=3.1.4 in /usr/local/lib/python3.10/dist-packages (from google-auth>=2.15.0->google-generativeai<0.9.0,>=0.8.0->langchain-google-genai) (4.9)\n",
            "Requirement already satisfied: anyio in /usr/local/lib/python3.10/dist-packages (from httpx<1,>=0.23.0->langsmith<0.3,>=0.1.17->langchain) (3.7.1)\n",
            "Requirement already satisfied: httpcore==1.* in /usr/local/lib/python3.10/dist-packages (from httpx<1,>=0.23.0->langsmith<0.3,>=0.1.17->langchain) (1.0.7)\n",
            "Requirement already satisfied: h11<0.15,>=0.13 in /usr/local/lib/python3.10/dist-packages (from httpcore==1.*->httpx<1,>=0.23.0->langsmith<0.3,>=0.1.17->langchain) (0.14.0)\n",
            "Requirement already satisfied: jsonpointer>=1.9 in /usr/local/lib/python3.10/dist-packages (from jsonpatch<2.0,>=1.33->langchain-core<0.4.0,>=0.3.25->langchain) (3.0.0)\n",
            "Requirement already satisfied: httplib2<1.dev0,>=0.19.0 in /usr/local/lib/python3.10/dist-packages (from google-api-python-client->google-generativeai<0.9.0,>=0.8.0->langchain-google-genai) (0.22.0)\n",
            "Requirement already satisfied: google-auth-httplib2<1.0.0,>=0.2.0 in /usr/local/lib/python3.10/dist-packages (from google-api-python-client->google-generativeai<0.9.0,>=0.8.0->langchain-google-genai) (0.2.0)\n",
            "Requirement already satisfied: uritemplate<5,>=3.0.1 in /usr/local/lib/python3.10/dist-packages (from google-api-python-client->google-generativeai<0.9.0,>=0.8.0->langchain-google-genai) (4.1.1)\n",
            "Requirement already satisfied: grpcio<2.0dev,>=1.33.2 in /usr/local/lib/python3.10/dist-packages (from google-api-core[grpc]!=2.0.*,!=2.1.*,!=2.10.*,!=2.2.*,!=2.3.*,!=2.4.*,!=2.5.*,!=2.6.*,!=2.7.*,!=2.8.*,!=2.9.*,<3.0.0dev,>=1.34.1->google-ai-generativelanguage==0.6.10->google-generativeai<0.9.0,>=0.8.0->langchain-google-genai) (1.68.1)\n",
            "Requirement already satisfied: grpcio-status<2.0.dev0,>=1.33.2 in /usr/local/lib/python3.10/dist-packages (from google-api-core[grpc]!=2.0.*,!=2.1.*,!=2.10.*,!=2.2.*,!=2.3.*,!=2.4.*,!=2.5.*,!=2.6.*,!=2.7.*,!=2.8.*,!=2.9.*,<3.0.0dev,>=1.34.1->google-ai-generativelanguage==0.6.10->google-generativeai<0.9.0,>=0.8.0->langchain-google-genai) (1.62.3)\n",
            "Requirement already satisfied: pyparsing!=3.0.0,!=3.0.1,!=3.0.2,!=3.0.3,<4,>=2.4.2 in /usr/local/lib/python3.10/dist-packages (from httplib2<1.dev0,>=0.19.0->google-api-python-client->google-generativeai<0.9.0,>=0.8.0->langchain-google-genai) (3.2.0)\n",
            "Requirement already satisfied: pyasn1<0.7.0,>=0.4.6 in /usr/local/lib/python3.10/dist-packages (from pyasn1-modules>=0.2.1->google-auth>=2.15.0->google-generativeai<0.9.0,>=0.8.0->langchain-google-genai) (0.6.1)\n",
            "Requirement already satisfied: sniffio>=1.1 in /usr/local/lib/python3.10/dist-packages (from anyio->httpx<1,>=0.23.0->langsmith<0.3,>=0.1.17->langchain) (1.3.1)\n",
            "Requirement already satisfied: exceptiongroup in /usr/local/lib/python3.10/dist-packages (from anyio->httpx<1,>=0.23.0->langsmith<0.3,>=0.1.17->langchain) (1.2.2)\n",
            "Downloading langchain_google_genai-2.0.7-py3-none-any.whl (41 kB)\n",
            "\u001b[2K   \u001b[90m━━━━━━━━━━━━━━━━━━━━━━━━━━━━━━━━━━━━━━━━\u001b[0m \u001b[32m41.3/41.3 kB\u001b[0m \u001b[31m2.3 MB/s\u001b[0m eta \u001b[36m0:00:00\u001b[0m\n",
            "\u001b[?25hDownloading filetype-1.2.0-py2.py3-none-any.whl (19 kB)\n",
            "Installing collected packages: filetype, langchain-google-genai\n",
            "Successfully installed filetype-1.2.0 langchain-google-genai-2.0.7\n"
          ]
        }
      ],
      "source": [
        "!pip install langchain langchain-google-genai"
      ]
    },
    {
      "cell_type": "code",
      "source": [
        "!pip install langchain-community"
      ],
      "metadata": {
        "colab": {
          "base_uri": "https://localhost:8080/"
        },
        "id": "PIHLzzMMiVZi",
        "outputId": "9a20e06d-3724-42f5-a397-17410999a5b9"
      },
      "execution_count": null,
      "outputs": [
        {
          "output_type": "stream",
          "name": "stdout",
          "text": [
            "Collecting langchain-community\n",
            "  Downloading langchain_community-0.3.13-py3-none-any.whl.metadata (2.9 kB)\n",
            "Requirement already satisfied: PyYAML>=5.3 in /usr/local/lib/python3.10/dist-packages (from langchain-community) (6.0.2)\n",
            "Requirement already satisfied: SQLAlchemy<3,>=1.4 in /usr/local/lib/python3.10/dist-packages (from langchain-community) (2.0.36)\n",
            "Requirement already satisfied: aiohttp<4.0.0,>=3.8.3 in /usr/local/lib/python3.10/dist-packages (from langchain-community) (3.11.10)\n",
            "Collecting dataclasses-json<0.7,>=0.5.7 (from langchain-community)\n",
            "  Downloading dataclasses_json-0.6.7-py3-none-any.whl.metadata (25 kB)\n",
            "Collecting httpx-sse<0.5.0,>=0.4.0 (from langchain-community)\n",
            "  Downloading httpx_sse-0.4.0-py3-none-any.whl.metadata (9.0 kB)\n",
            "Collecting langchain<0.4.0,>=0.3.13 (from langchain-community)\n",
            "  Downloading langchain-0.3.13-py3-none-any.whl.metadata (7.1 kB)\n",
            "Collecting langchain-core<0.4.0,>=0.3.27 (from langchain-community)\n",
            "  Downloading langchain_core-0.3.28-py3-none-any.whl.metadata (6.3 kB)\n",
            "Requirement already satisfied: langsmith<0.3,>=0.1.125 in /usr/local/lib/python3.10/dist-packages (from langchain-community) (0.2.3)\n",
            "Requirement already satisfied: numpy<2,>=1.22.4 in /usr/local/lib/python3.10/dist-packages (from langchain-community) (1.26.4)\n",
            "Collecting pydantic-settings<3.0.0,>=2.4.0 (from langchain-community)\n",
            "  Downloading pydantic_settings-2.7.0-py3-none-any.whl.metadata (3.5 kB)\n",
            "Requirement already satisfied: requests<3,>=2 in /usr/local/lib/python3.10/dist-packages (from langchain-community) (2.32.3)\n",
            "Requirement already satisfied: tenacity!=8.4.0,<10,>=8.1.0 in /usr/local/lib/python3.10/dist-packages (from langchain-community) (9.0.0)\n",
            "Requirement already satisfied: aiohappyeyeballs>=2.3.0 in /usr/local/lib/python3.10/dist-packages (from aiohttp<4.0.0,>=3.8.3->langchain-community) (2.4.4)\n",
            "Requirement already satisfied: aiosignal>=1.1.2 in /usr/local/lib/python3.10/dist-packages (from aiohttp<4.0.0,>=3.8.3->langchain-community) (1.3.2)\n",
            "Requirement already satisfied: async-timeout<6.0,>=4.0 in /usr/local/lib/python3.10/dist-packages (from aiohttp<4.0.0,>=3.8.3->langchain-community) (4.0.3)\n",
            "Requirement already satisfied: attrs>=17.3.0 in /usr/local/lib/python3.10/dist-packages (from aiohttp<4.0.0,>=3.8.3->langchain-community) (24.3.0)\n",
            "Requirement already satisfied: frozenlist>=1.1.1 in /usr/local/lib/python3.10/dist-packages (from aiohttp<4.0.0,>=3.8.3->langchain-community) (1.5.0)\n",
            "Requirement already satisfied: multidict<7.0,>=4.5 in /usr/local/lib/python3.10/dist-packages (from aiohttp<4.0.0,>=3.8.3->langchain-community) (6.1.0)\n",
            "Requirement already satisfied: propcache>=0.2.0 in /usr/local/lib/python3.10/dist-packages (from aiohttp<4.0.0,>=3.8.3->langchain-community) (0.2.1)\n",
            "Requirement already satisfied: yarl<2.0,>=1.17.0 in /usr/local/lib/python3.10/dist-packages (from aiohttp<4.0.0,>=3.8.3->langchain-community) (1.18.3)\n",
            "Collecting marshmallow<4.0.0,>=3.18.0 (from dataclasses-json<0.7,>=0.5.7->langchain-community)\n",
            "  Downloading marshmallow-3.23.2-py3-none-any.whl.metadata (7.1 kB)\n",
            "Collecting typing-inspect<1,>=0.4.0 (from dataclasses-json<0.7,>=0.5.7->langchain-community)\n",
            "  Downloading typing_inspect-0.9.0-py3-none-any.whl.metadata (1.5 kB)\n",
            "Requirement already satisfied: langchain-text-splitters<0.4.0,>=0.3.3 in /usr/local/lib/python3.10/dist-packages (from langchain<0.4.0,>=0.3.13->langchain-community) (0.3.3)\n",
            "Requirement already satisfied: pydantic<3.0.0,>=2.7.4 in /usr/local/lib/python3.10/dist-packages (from langchain<0.4.0,>=0.3.13->langchain-community) (2.10.3)\n",
            "Requirement already satisfied: jsonpatch<2.0,>=1.33 in /usr/local/lib/python3.10/dist-packages (from langchain-core<0.4.0,>=0.3.27->langchain-community) (1.33)\n",
            "Requirement already satisfied: packaging<25,>=23.2 in /usr/local/lib/python3.10/dist-packages (from langchain-core<0.4.0,>=0.3.27->langchain-community) (24.2)\n",
            "Requirement already satisfied: typing-extensions>=4.7 in /usr/local/lib/python3.10/dist-packages (from langchain-core<0.4.0,>=0.3.27->langchain-community) (4.12.2)\n",
            "Requirement already satisfied: httpx<1,>=0.23.0 in /usr/local/lib/python3.10/dist-packages (from langsmith<0.3,>=0.1.125->langchain-community) (0.28.1)\n",
            "Requirement already satisfied: orjson<4.0.0,>=3.9.14 in /usr/local/lib/python3.10/dist-packages (from langsmith<0.3,>=0.1.125->langchain-community) (3.10.12)\n",
            "Requirement already satisfied: requests-toolbelt<2.0.0,>=1.0.0 in /usr/local/lib/python3.10/dist-packages (from langsmith<0.3,>=0.1.125->langchain-community) (1.0.0)\n",
            "Collecting python-dotenv>=0.21.0 (from pydantic-settings<3.0.0,>=2.4.0->langchain-community)\n",
            "  Downloading python_dotenv-1.0.1-py3-none-any.whl.metadata (23 kB)\n",
            "Requirement already satisfied: charset-normalizer<4,>=2 in /usr/local/lib/python3.10/dist-packages (from requests<3,>=2->langchain-community) (3.4.0)\n",
            "Requirement already satisfied: idna<4,>=2.5 in /usr/local/lib/python3.10/dist-packages (from requests<3,>=2->langchain-community) (3.10)\n",
            "Requirement already satisfied: urllib3<3,>=1.21.1 in /usr/local/lib/python3.10/dist-packages (from requests<3,>=2->langchain-community) (2.2.3)\n",
            "Requirement already satisfied: certifi>=2017.4.17 in /usr/local/lib/python3.10/dist-packages (from requests<3,>=2->langchain-community) (2024.12.14)\n",
            "Requirement already satisfied: greenlet!=0.4.17 in /usr/local/lib/python3.10/dist-packages (from SQLAlchemy<3,>=1.4->langchain-community) (3.1.1)\n",
            "Requirement already satisfied: anyio in /usr/local/lib/python3.10/dist-packages (from httpx<1,>=0.23.0->langsmith<0.3,>=0.1.125->langchain-community) (3.7.1)\n",
            "Requirement already satisfied: httpcore==1.* in /usr/local/lib/python3.10/dist-packages (from httpx<1,>=0.23.0->langsmith<0.3,>=0.1.125->langchain-community) (1.0.7)\n",
            "Requirement already satisfied: h11<0.15,>=0.13 in /usr/local/lib/python3.10/dist-packages (from httpcore==1.*->httpx<1,>=0.23.0->langsmith<0.3,>=0.1.125->langchain-community) (0.14.0)\n",
            "Requirement already satisfied: jsonpointer>=1.9 in /usr/local/lib/python3.10/dist-packages (from jsonpatch<2.0,>=1.33->langchain-core<0.4.0,>=0.3.27->langchain-community) (3.0.0)\n",
            "Requirement already satisfied: annotated-types>=0.6.0 in /usr/local/lib/python3.10/dist-packages (from pydantic<3.0.0,>=2.7.4->langchain<0.4.0,>=0.3.13->langchain-community) (0.7.0)\n",
            "Requirement already satisfied: pydantic-core==2.27.1 in /usr/local/lib/python3.10/dist-packages (from pydantic<3.0.0,>=2.7.4->langchain<0.4.0,>=0.3.13->langchain-community) (2.27.1)\n",
            "Collecting mypy-extensions>=0.3.0 (from typing-inspect<1,>=0.4.0->dataclasses-json<0.7,>=0.5.7->langchain-community)\n",
            "  Downloading mypy_extensions-1.0.0-py3-none-any.whl.metadata (1.1 kB)\n",
            "Requirement already satisfied: sniffio>=1.1 in /usr/local/lib/python3.10/dist-packages (from anyio->httpx<1,>=0.23.0->langsmith<0.3,>=0.1.125->langchain-community) (1.3.1)\n",
            "Requirement already satisfied: exceptiongroup in /usr/local/lib/python3.10/dist-packages (from anyio->httpx<1,>=0.23.0->langsmith<0.3,>=0.1.125->langchain-community) (1.2.2)\n",
            "Downloading langchain_community-0.3.13-py3-none-any.whl (2.5 MB)\n",
            "\u001b[2K   \u001b[90m━━━━━━━━━━━━━━━━━━━━━━━━━━━━━━━━━━━━━━━━\u001b[0m \u001b[32m2.5/2.5 MB\u001b[0m \u001b[31m19.1 MB/s\u001b[0m eta \u001b[36m0:00:00\u001b[0m\n",
            "\u001b[?25hDownloading dataclasses_json-0.6.7-py3-none-any.whl (28 kB)\n",
            "Downloading httpx_sse-0.4.0-py3-none-any.whl (7.8 kB)\n",
            "Downloading langchain-0.3.13-py3-none-any.whl (1.0 MB)\n",
            "\u001b[2K   \u001b[90m━━━━━━━━━━━━━━━━━━━━━━━━━━━━━━━━━━━━━━━━\u001b[0m \u001b[32m1.0/1.0 MB\u001b[0m \u001b[31m38.4 MB/s\u001b[0m eta \u001b[36m0:00:00\u001b[0m\n",
            "\u001b[?25hDownloading langchain_core-0.3.28-py3-none-any.whl (411 kB)\n",
            "\u001b[2K   \u001b[90m━━━━━━━━━━━━━━━━━━━━━━━━━━━━━━━━━━━━━━━━\u001b[0m \u001b[32m411.6/411.6 kB\u001b[0m \u001b[31m15.2 MB/s\u001b[0m eta \u001b[36m0:00:00\u001b[0m\n",
            "\u001b[?25hDownloading pydantic_settings-2.7.0-py3-none-any.whl (29 kB)\n",
            "Downloading marshmallow-3.23.2-py3-none-any.whl (49 kB)\n",
            "\u001b[2K   \u001b[90m━━━━━━━━━━━━━━━━━━━━━━━━━━━━━━━━━━━━━━━━\u001b[0m \u001b[32m49.3/49.3 kB\u001b[0m \u001b[31m2.4 MB/s\u001b[0m eta \u001b[36m0:00:00\u001b[0m\n",
            "\u001b[?25hDownloading python_dotenv-1.0.1-py3-none-any.whl (19 kB)\n",
            "Downloading typing_inspect-0.9.0-py3-none-any.whl (8.8 kB)\n",
            "Downloading mypy_extensions-1.0.0-py3-none-any.whl (4.7 kB)\n",
            "Installing collected packages: python-dotenv, mypy-extensions, marshmallow, httpx-sse, typing-inspect, pydantic-settings, dataclasses-json, langchain-core, langchain, langchain-community\n",
            "  Attempting uninstall: langchain-core\n",
            "    Found existing installation: langchain-core 0.3.25\n",
            "    Uninstalling langchain-core-0.3.25:\n",
            "      Successfully uninstalled langchain-core-0.3.25\n",
            "  Attempting uninstall: langchain\n",
            "    Found existing installation: langchain 0.3.12\n",
            "    Uninstalling langchain-0.3.12:\n",
            "      Successfully uninstalled langchain-0.3.12\n",
            "Successfully installed dataclasses-json-0.6.7 httpx-sse-0.4.0 langchain-0.3.13 langchain-community-0.3.13 langchain-core-0.3.28 marshmallow-3.23.2 mypy-extensions-1.0.0 pydantic-settings-2.7.0 python-dotenv-1.0.1 typing-inspect-0.9.0\n"
          ]
        }
      ]
    },
    {
      "cell_type": "code",
      "source": [
        "# Import ChatGoogleGenerativeAI or GoogleGenerativeAI\n",
        "from langchain_google_genai import ChatGoogleGenerativeAI  # For chat models\n",
        "# or\n",
        "from langchain_google_genai import GoogleGenerativeAI  # For text completion models"
      ],
      "metadata": {
        "id": "VSkvWy0WL4xv"
      },
      "execution_count": null,
      "outputs": []
    },
    {
      "cell_type": "code",
      "source": [
        "# from langchain.llms import GeminiFlash\n",
        "from langchain.prompts import PromptTemplate\n",
        "from langchain.chains import LLMChain"
      ],
      "metadata": {
        "id": "AN-Vu7gYhCTe"
      },
      "execution_count": null,
      "outputs": []
    },
    {
      "cell_type": "code",
      "source": [
        "import langchain_google_genai as genai"
      ],
      "metadata": {
        "id": "FZ-wrYwn39AO"
      },
      "execution_count": null,
      "outputs": []
    },
    {
      "cell_type": "code",
      "source": [
        "from langchain_google_genai import ChatGoogleGenerativeAI"
      ],
      "metadata": {
        "id": "pDBSZelX4Mlm"
      },
      "execution_count": null,
      "outputs": []
    },
    {
      "cell_type": "code",
      "source": [
        "from google.colab import userdata\n",
        "GOOGLE_API_KEY = userdata.get('GOOGLE_API_KEY')\n",
        "# GOOGLE_API_KEY"
      ],
      "metadata": {
        "id": "owF542V346rN"
      },
      "execution_count": null,
      "outputs": []
    },
    {
      "cell_type": "code",
      "source": [
        "llm : ChatGoogleGenerativeAI = ChatGoogleGenerativeAI(\n",
        "      model= \"gemini-2.0-flash-exp\",\n",
        "      api_key= GOOGLE_API_KEY,\n",
        "      temperature=0.9,\n",
        "      max_output_tokens=500,\n",
        ")"
      ],
      "metadata": {
        "id": "CTUev8VA4bkn"
      },
      "execution_count": null,
      "outputs": []
    },
    {
      "cell_type": "code",
      "source": [
        "# Create a prompt template\n",
        "prompt_template = PromptTemplate(\n",
        "    input_variables=[\"question\"],\n",
        "    template=\"You are a helpful assistant. Answer the following question:\\n\\n{question}\"\n",
        ")"
      ],
      "metadata": {
        "id": "qhz7ijCVg1HK"
      },
      "execution_count": null,
      "outputs": []
    },
    {
      "cell_type": "code",
      "source": [
        "# Create the LLM chain\n",
        "chain = LLMChain(llm=llm, prompt=prompt_template)"
      ],
      "metadata": {
        "id": "Mb0vadNoj2ri",
        "colab": {
          "base_uri": "https://localhost:8080/"
        },
        "outputId": "dadb7065-84a0-4b4c-ebdd-344502f8219f"
      },
      "execution_count": null,
      "outputs": [
        {
          "output_type": "stream",
          "name": "stderr",
          "text": [
            "<ipython-input-14-8dae3fb10878>:2: LangChainDeprecationWarning: The class `LLMChain` was deprecated in LangChain 0.1.17 and will be removed in 1.0. Use :meth:`~RunnableSequence, e.g., `prompt | llm`` instead.\n",
            "  chain = LLMChain(llm=llm, prompt=prompt_template)\n"
          ]
        }
      ]
    },
    {
      "cell_type": "code",
      "source": [
        "# # Step 4: Run the chain with user-defined questions\n",
        "def ask_questions(questions):\n",
        "    responses = []\n",
        "    for question in questions:\n",
        "        # Use 'chain' instead of 'llm_chain'\n",
        "        response = chain.run({\"question\": question})\n",
        "        responses.append((question, response))\n",
        "    return responses\n",
        "\n",
        "user_questions = [\n",
        "    \"What is Agentic Ai?\",\n",
        "    \"Why holy Quran sent on Prophet Muhammad(P.B.U.H)?\",\n",
        "    \"Who is the Great personality on the History of mankind?\"\n",
        "]\n",
        "\n",
        "responses = ask_questions(user_questions)"
      ],
      "metadata": {
        "id": "LqKjr4ebtk9a",
        "colab": {
          "base_uri": "https://localhost:8080/"
        },
        "outputId": "bf8c1bec-f647-4e23-f81c-4646e20a44bc"
      },
      "execution_count": null,
      "outputs": [
        {
          "output_type": "stream",
          "name": "stderr",
          "text": [
            "<ipython-input-15-a036bf1a2382>:6: LangChainDeprecationWarning: The method `Chain.run` was deprecated in langchain 0.1.0 and will be removed in 1.0. Use :meth:`~invoke` instead.\n",
            "  response = chain.run({\"question\": question})\n"
          ]
        }
      ]
    },
    {
      "cell_type": "code",
      "source": [
        "# # Display responses\n",
        "for question, response in responses:\n",
        "    print(f\"\\nQuestion:\\n {question}\\n\\nResponse: {response}\\n\")"
      ],
      "metadata": {
        "colab": {
          "base_uri": "https://localhost:8080/"
        },
        "id": "8sZdZ76BtLci",
        "outputId": "690f6055-c9da-46d9-ea52-a34921810e8f"
      },
      "execution_count": null,
      "outputs": [
        {
          "output_type": "stream",
          "name": "stdout",
          "text": [
            "\n",
            "Question:\n",
            " What is Agentic Ai?\n",
            "\n",
            "Response: Okay, let's break down what \"Agentic AI\" means.\n",
            "\n",
            "**Agentic AI, at its core, refers to artificial intelligence systems that can act autonomously to achieve specific goals.** Think of it like giving an AI a task, and instead of just passively providing information or processing data, it can:\n",
            "\n",
            "* **Plan:** Figure out the steps needed to reach the goal.\n",
            "* **Decide:** Choose the best actions based on the context and its understanding of the situation.\n",
            "* **Execute:** Take those actions, potentially interacting with other systems, data, or even the real world.\n",
            "* **Adapt:** Learn from its experiences and refine its approach over time.\n",
            "\n",
            "**Key Characteristics of Agentic AI:**\n",
            "\n",
            "* **Autonomy:** The ability to function independently, without constant human intervention.\n",
            "* **Goal-Oriented:** Driven by specific objectives and actively works towards achieving them.\n",
            "* **Planning & Reasoning:** Can think ahead, strategize, and use logic to make decisions.\n",
            "* **Action & Execution:** Capable of performing actions that affect its environment.\n",
            "* **Learning & Adaptation:** Can improve its performance through experience.\n",
            "* **Perception:** Can interpret and understand its environment through sensors or data.\n",
            "\n",
            "**How is it different from traditional AI?**\n",
            "\n",
            "Traditional AI often focuses on narrow tasks like classification, prediction, or generation. Think of a recommendation engine or a chatbot. These systems are typically reactive and follow predefined rules. Agentic AI, on the other hand, is more proactive and can take initiative to achieve complex goals.\n",
            "\n",
            "**Examples of Agentic AI:**\n",
            "\n",
            "While the field is rapidly evolving, here are some examples of where we are seeing or might see Agentic AI:\n",
            "\n",
            "* **Personal Assistants:** Going beyond simple task reminders, they could proactively manage your schedule, research travel options, or even negotiate prices for you.\n",
            "* **Autonomous Vehicles:** Planning routes, navigating traffic, and making real-time decisions are all hallmarks of agentic behavior.\n",
            "* **Scientific Research:** An AI that can design experiments, analyze data, and formulate hypotheses autonomously.\n",
            "* **Robotics:** Robots that can adapt to new environments, learn new tasks, and solve problems independently.\n",
            "* **Content Creation:** AI agents that can autonomously research topics, write articles, or create marketing campaigns.\n",
            "\n",
            "**Why is Agentic AI important?**\n",
            "\n",
            "Agentic AI has the potential to:\n",
            "\n",
            "* **Automate Complex Tasks:**\n",
            "\n",
            "\n",
            "Question:\n",
            " Why holy Quran sent on Prophet Muhammad(P.B.U.H)?\n",
            "\n",
            "Response: The Holy Quran was revealed to Prophet Muhammad (peace be upon him) for several key reasons, all interconnected and aimed at guiding humanity towards a better understanding of God and a righteous way of life. Here are some of the most important reasons:\n",
            "\n",
            "**1. Guidance for Humanity (Hidayah):**\n",
            "\n",
            "* **To provide clear and comprehensive guidance:** The Quran is considered the ultimate source of guidance for Muslims. It offers detailed instructions on all aspects of life, from worship and personal conduct to social interactions and legal matters. It addresses the fundamental questions of human existence: Who is God? Why are we here? What is our purpose?\n",
            "* **To distinguish between right and wrong:** The Quran provides a clear framework for understanding morality and ethics. It distinguishes between good and evil, truth and falsehood, and encourages people to choose the path of righteousness.\n",
            "* **To establish a just and equitable society:** The Quran promotes principles of justice, fairness, and compassion. It advocates for the rights of all individuals, regardless of their social status, gender, or ethnicity.\n",
            "\n",
            "**2. To Confirm and Complete Previous Revelations:**\n",
            "\n",
            "* **To affirm the core message of previous prophets:** The Quran acknowledges the validity of earlier scriptures, such as the Torah (revealed to Moses) and the Gospel (revealed to Jesus). It confirms the core message of monotheism (belief in one God) that was preached by all prophets.\n",
            "* **To correct distortions and alterations:** Over time, previous scriptures had been subject to human interpretation, translation, and alterations. The Quran came to clarify these distortions and to present the true message of God in its purest form.\n",
            "* **To be the final and complete revelation:** The Quran is considered the final and complete revelation from God to humanity. It abrogates previous laws and scriptures where necessary, and provides a comprehensive code of conduct for all times.\n",
            "\n",
            "**3. To Establish the Oneness of God (Tawhid):**\n",
            "\n",
            "* **To emphasize the absolute sovereignty of God:** The Quran emphasizes that there is only one God, Allah, who is the Creator and Sustainer of the universe. It rejects all forms of idolatry and polytheism, and calls people to worship God alone.\n",
            "* **To explain the nature and attributes of God:** The Quran provides a detailed description of God's attributes, such as His mercy, justice, power, and wisdom. This understanding helps people to develop a deeper and more personal relationship with\n",
            "\n",
            "\n",
            "Question:\n",
            " Who is the Great personality on the History of mankind?\n",
            "\n",
            "Response: That's a fascinating and incredibly complex question! There's no single, universally agreed-upon \"greatest\" personality in human history because \"greatness\" is so subjective and depends on what criteria you're using. What one person considers great, another might find insignificant or even harmful.\n",
            "\n",
            "Here's why it's so difficult to pick just one, and some examples of figures often considered \"great\" based on different perspectives:\n",
            "\n",
            "**Challenges in Defining \"Greatness\":**\n",
            "\n",
            "* **Defining \"Great\":** What makes someone great? Is it their impact on society? Their moral character? Their intellectual achievements? Their artistic contributions? Their military prowess? Different people value different attributes.\n",
            "* **Perspective Matters:** Our understanding of historical figures is filtered through the lens of our own culture, values, and time period. A leader revered in one era might be condemned in another.\n",
            "* **The Complexity of Individuals:** People are multi-faceted. Even those seen as \"great\" often had flaws, made mistakes, or held views that are now considered unacceptable.\n",
            "* **The Role of History:** History is often written by the victors, and narratives can be shaped and manipulated over time. We may not always have the full picture of an individual's life and actions.\n",
            "\n",
            "**Examples of \"Great\" Personalities Based on Different Criteria:**\n",
            "\n",
            "* **Impact on Civilization/Society:**\n",
            "    * **Gautama Buddha:** Founder of Buddhism, profoundly impacting spiritual and philosophical thought.\n",
            "    * **Confucius:** His teachings shaped Chinese society and culture for centuries.\n",
            "    * **Muhammad:** Founder of Islam, one of the world's major religions.\n",
            "    * **Jesus Christ:** Central figure of Christianity, whose teachings have influenced billions.\n",
            "    * **Abraham Lincoln:** Led the US through a civil war and abolished slavery.\n",
            "    * **Nelson Mandela:** Led the struggle against apartheid in South Africa and became a symbol of peace and reconciliation.\n",
            "    * **Genghis Khan:** While controversial, he unified Mongol tribes and established a vast empire, impacting trade and political structures.\n",
            "\n",
            "* **Intellectual and Scientific Achievement:**\n",
            "    * **Albert Einstein:** Revolutionized our understanding of physics with his theory of relativity.\n",
            "    * **Isaac Newton:** Developed the laws of motion and universal gravitation.\n",
            "    * **Aristotle:** A towering figure in philosophy, logic, and science.\n",
            "    * **Leonardo da Vinci:** A true\n",
            "\n"
          ]
        }
      ]
    },
    {
      "cell_type": "code",
      "source": [
        "# Step 5: Experiment with different prompt templates and parameters\n",
        "advanced_prompt_template = PromptTemplate(\n",
        "    input_variables=[\"question\"],\n",
        "    template=\"Provide an insightful and concise explanation for: {question}\"\n",
        ")\n",
        "\n",
        "# llm_advanced = GeminiFlash(temperature=0.9, max_tokens=200, stop=[\"\\n\"])\n",
        "llm_chain_advanced = LLMChain(llm=llm_advanced, prompt=advanced_prompt_template)\n",
        "\n",
        "advanced_responses = ask_questions(user_questions)"
      ],
      "metadata": {
        "id": "qwtJsZqNula7"
      },
      "execution_count": null,
      "outputs": []
    },
    {
      "cell_type": "code",
      "source": [
        "# Display advanced responses\n",
        "for question, response in advanced_responses:\n",
        "    print(f\"\\n[Advanced] Question: {question}\\n[Advanced] Response: {response}\\n\")"
      ],
      "metadata": {
        "id": "YSSJegJJurS0",
        "colab": {
          "base_uri": "https://localhost:8080/"
        },
        "outputId": "e4bab536-0717-4657-a9a9-54c29c5fb5f5"
      },
      "execution_count": null,
      "outputs": [
        {
          "output_type": "stream",
          "name": "stdout",
          "text": [
            "\n",
            "[Advanced] Question: What is Agentic Ai?\n",
            "[Advanced] Response: Okay, let's break down what \"Agentic AI\" means.\n",
            "\n",
            "**Agentic AI, at its core, refers to Artificial Intelligence that can act autonomously to achieve specific goals.** It's more than just a passive tool; it's an AI that can:\n",
            "\n",
            "* **Perceive:** Understand its environment and receive inputs (data, information, prompts).\n",
            "* **Plan:** Figure out the steps needed to reach a desired outcome.\n",
            "* **Act:** Execute those steps, often interacting with the real world or digital systems.\n",
            "* **Learn:** Adapt and improve its performance over time based on its experiences and feedback.\n",
            "\n",
            "Think of it like this: Instead of just following explicit, pre-programmed instructions, an agentic AI can think for itself, make decisions, and carry out complex tasks without constant human intervention.\n",
            "\n",
            "Here's a more detailed look at the key characteristics of Agentic AI:\n",
            "\n",
            "**Key Features of Agentic AI:**\n",
            "\n",
            "* **Autonomy:** The ability to operate independently, without constant human guidance.\n",
            "* **Goal-Oriented:** Focused on achieving specific objectives or tasks.\n",
            "* **Planning & Problem-Solving:** Capable of creating strategies and finding solutions to complex problems.\n",
            "* **Interactivity:** Can engage with its environment (physical or digital) and other systems.\n",
            "* **Learning & Adaptation:** Can improve its performance through feedback and experience.\n",
            "* **Memory/Context Awareness:** Often possesses a memory of past actions and a sense of the current context to make better decisions.\n",
            "* **Reasoning:** The ability to draw inferences and make logical deductions.\n",
            "* **Action Execution:** Can carry out actions using various tools and interfaces.\n",
            "\n",
            "**How is Agentic AI Different from Traditional AI?**\n",
            "\n",
            "* **Traditional AI:** Often focused on specific, well-defined tasks. Examples include image recognition, spam filtering, or chatbots with limited scope. They rely on pre-defined rules or patterns.\n",
            "* **Agentic AI:** Aims for a more general intelligence that can handle a wider range of tasks and problems without specific programming for each case. It's about delegation and trusting the AI to find solutions.\n",
            "\n",
            "**Examples of Agentic AI in Action (Conceptual or Emerging):**\n",
            "\n",
            "* **Autonomous Research Assistants:** Analyzing vast datasets, formulating hypotheses, and writing research papers.\n",
            "* **Personalized Learning Systems:** Customizing educational paths for individual students, adapting to their pace and learning style.\n",
            "\n",
            "\n",
            "[Advanced] Question: Why holy Quran sent on Prophet Muhammad(P.B.U.H)?\n",
            "[Advanced] Response: The Holy Quran was revealed to Prophet Muhammad (peace be upon him) for several profound and interconnected reasons, all ultimately serving the purpose of guiding humanity towards the worship of the one true God (Allah) and a righteous way of life. Here are the key reasons:\n",
            "\n",
            "**1. Guidance for All Humanity:**\n",
            "\n",
            "* **A Universal Message:** The Quran is not meant for a specific people or time; it is a universal message intended for all of humankind, regardless of their background, ethnicity, or location.\n",
            "* **The Straight Path:** The Quran provides clear guidance on how to live a life pleasing to God, outlining principles of morality, ethics, justice, and spirituality. It aims to lead people away from darkness and towards the light of truth.\n",
            "* **Distinction between Right and Wrong:** The Quran clearly distinguishes between good and evil, right and wrong, and truth and falsehood, providing a framework for making moral decisions.\n",
            "\n",
            "**2. To Confirm and Complete Previous Divine Messages:**\n",
            "\n",
            "* **Continuity of Revelation:** The Quran acknowledges and affirms the messages revealed to previous prophets, such as Moses, Abraham, and Jesus (peace be upon them all). It sees itself as the final and most comprehensive iteration of the divine message.\n",
            "* **Clarification and Correction:** While confirming the core message of previous scriptures, the Quran also clarifies and corrects certain misinterpretations or alterations that may have occurred over time.\n",
            "* **Final Testament:** The Quran is considered the final divine scripture, the culmination of the divine message, and is meant to guide humanity until the end of time.\n",
            "\n",
            "**3. To Establish a Just and Equitable Society:**\n",
            "\n",
            "* **Social Justice:** The Quran emphasizes social justice, equality, and the rights of the vulnerable. It promotes fairness in all aspects of life, from family relationships to economic transactions.\n",
            "* **Combating Oppression:** The Quran condemns oppression, injustice, and the exploitation of others. It calls for the establishment of a society based on compassion, mercy, and mutual respect.\n",
            "* **Building a Moral Community:** The Quran seeks to create a community built upon strong moral principles, promoting harmony, cooperation, and peace.\n",
            "\n",
            "**4. To Demonstrate God's Oneness (Tawhid):**\n",
            "\n",
            "* **Rejection of Idolatry:** The central message of the Quran is the oneness of God (Tawhid) and the rejection of any form of idolatry or polytheism. It calls for the worship of God\n",
            "\n",
            "\n",
            "[Advanced] Question: Who is the Great personality on the History of mankind?\n",
            "[Advanced] Response: That's a fascinating question, and it's one that has been debated for centuries! There's no single definitive answer because \"greatness\" is subjective and depends heavily on what criteria you use to judge someone. \n",
            "\n",
            "Here's why it's so complex and some of the different perspectives:\n",
            "\n",
            "**Why There's No Single \"Greatest\":**\n",
            "\n",
            "* **Different Definitions of Greatness:** Are we talking about military power, political influence, artistic achievement, scientific discovery, moral leadership, or something else entirely? The answer changes based on what we value.\n",
            "* **Cultural Bias:** Our understanding of history is often shaped by our own cultural background. What is considered \"great\" in one culture might be viewed very differently in another.\n",
            "* **Changing Perspectives:** History is constantly being re-evaluated. People who were once considered heroes might now be viewed with more critical eyes, and vice-versa.\n",
            "* **Limited Information:** We don't have a complete picture of the past. Some great figures may have been lost to time, or their stories might have been suppressed.\n",
            "\n",
            "**Categories of \"Great\" Personalities and Examples:**\n",
            "\n",
            "Here are some categories and examples of figures who are often considered \"great\" within those realms:\n",
            "\n",
            "* **Military Leaders:**\n",
            "    * **Alexander the Great:** His military conquests were unparalleled for his time, and he established a vast empire.\n",
            "    * **Julius Caesar:** A brilliant general and political strategist who transformed Rome.\n",
            "    * **Genghis Khan:** United the Mongol tribes and forged a vast empire.\n",
            "* **Political Leaders:**\n",
            "    * **Abraham Lincoln:** Led the US through the Civil War and abolished slavery.\n",
            "    * **Nelson Mandela:** A revolutionary and anti-apartheid leader who fought for equality in South Africa.\n",
            "    * **Queen Elizabeth I:** A strong and influential monarch who guided England through a period of significant change.\n",
            "* **Philosophers and Thinkers:**\n",
            "    * **Plato & Aristotle:** Ancient Greek philosophers who laid the foundations for Western thought.\n",
            "    * **Confucius:** His teachings shaped East Asian societies and continue to be influential.\n",
            "    * **Albert Einstein:** Revolutionized physics with his theories of relativity.\n",
            "* **Religious Figures:**\n",
            "    * **Buddha:** Founder of Buddhism, a major world religion.\n",
            "    * **Jesus Christ:** Central figure in Christianity, the most widely followed religion globally.\n",
            "    *\n",
            "\n"
          ]
        }
      ]
    },
    {
      "cell_type": "code",
      "source": [
        "# Additional Feature: Implementing a summary feature\n",
        "def summarize_response(responses):\n",
        "    summary_prompt_template = PromptTemplate(\n",
        "        input_variables=[\"responses\"],\n",
        "        template=\"Summarize the following responses: {responses}\"\n",
        "    )\n",
        "\n",
        "    summary_chain = LLMChain(llm=llm, prompt=summary_prompt_template)\n",
        "    concatenated_responses = \" \".join([response for _, response in responses])\n",
        "    summary = summary_chain.run({\"responses\": concatenated_responses})\n",
        "    return summary\n",
        "\n",
        "summary = summarize_response(responses)\n",
        "print(f\"\\nSummary of Responses:\\n{summary}\\n\")"
      ],
      "metadata": {
        "id": "H_8i2XUTuyVB",
        "colab": {
          "base_uri": "https://localhost:8080/"
        },
        "outputId": "24bec314-b551-4458-ed0e-2b4f5a6475b9"
      },
      "execution_count": null,
      "outputs": [
        {
          "output_type": "stream",
          "name": "stdout",
          "text": [
            "\n",
            "Summary of Responses:\n",
            "Okay, here's a summary of the provided responses, broken down by topic:\n",
            "\n",
            "**1. Agentic AI:**\n",
            "\n",
            "*   **Definition:** Agentic AI refers to AI systems that can operate **autonomously** to achieve specific goals. They go beyond passive processing, actively planning, deciding, executing, and adapting.\n",
            "*   **Key Characteristics:**\n",
            "    *   **Autonomy:** Functions independently.\n",
            "    *   **Goal-Oriented:** Driven by objectives.\n",
            "    *   **Planning & Reasoning:** Can strategize and make logical decisions.\n",
            "    *   **Action & Execution:** Can take actions affecting its environment.\n",
            "    *   **Learning & Adaptation:** Improves through experience.\n",
            "    *   **Perception:** Interprets its environment through data.\n",
            "*   **Difference from Traditional AI:** Traditional AI is reactive and task-specific (like chatbots), while Agentic AI is proactive and goal-oriented.\n",
            "*   **Examples:**\n",
            "    *   Advanced personal assistants.\n",
            "    *   Autonomous vehicles.\n",
            "    *   Scientific research AI.\n",
            "    *   Autonomous robots.\n",
            "    *   Content creation AI.\n",
            "*   **Importance:** Agentic AI can automate complex tasks, increase efficiency, and potentially solve complex problems.\n",
            "\n",
            "**2. The Quran:**\n",
            "\n",
            "*   **Purpose:** The Quran was revealed to provide guidance to humanity, acting as the final and complete revelation from God.\n",
            "*   **Key Reasons for Revelation:**\n",
            "    *   **Guidance (Hidayah):** To provide comprehensive instructions for life, distinguish right from wrong, and establish a just society.\n",
            "    *   **Confirmation & Completion:** To affirm the core messages of previous prophets, correct distortions in previous scriptures, and provide the final revelation.\n",
            "    *   **Oneness of God (Tawhid):** To emphasize the absolute sovereignty of God and reject idolatry, while describing God's attributes to foster a personal relationship.\n",
            "\n",
            "**3. The \"Greatest\" Personality in History:**\n",
            "\n",
            "*   **Impossibility of a Definitive Answer:** There is no single \"greatest\" personality due to the subjective nature of \"greatness,\" varying perspectives, and the complexity of individuals.\n",
            "*   **Challenges in Defining Greatness:**\n",
            "    *   The definition of \"great\" is subjective and based on values.\n",
            "    *   Historical perspectives influence how people are perceived.\n",
            "    *   Individuals are\n",
            "\n"
          ]
        }
      ]
    }
  ]
}