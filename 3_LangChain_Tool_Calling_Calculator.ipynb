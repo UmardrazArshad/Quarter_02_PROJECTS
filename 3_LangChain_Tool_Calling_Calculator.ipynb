{
  "nbformat": 4,
  "nbformat_minor": 0,
  "metadata": {
    "colab": {
      "provenance": [],
      "authorship_tag": "ABX9TyN97rF4Mw0QYMCGG53dpsZx",
      "include_colab_link": true
    },
    "kernelspec": {
      "name": "python3",
      "display_name": "Python 3"
    },
    "language_info": {
      "name": "python"
    }
  },
  "cells": [
    {
      "cell_type": "markdown",
      "metadata": {
        "id": "view-in-github",
        "colab_type": "text"
      },
      "source": [
        "<a href=\"https://colab.research.google.com/github/UmardrazArshad/Quarter_02_PROJECTS/blob/main/3_LangChain_Tool_Calling_Calculator.ipynb\" target=\"_parent\"><img src=\"https://colab.research.google.com/assets/colab-badge.svg\" alt=\"Open In Colab\"/></a>"
      ]
    },
    {
      "cell_type": "markdown",
      "source": [
        "### **I Integrate this chain into a web application using Streamlit.**\n",
        "**web app link** : https://umardrazarshad-1st-project-gemini-app-tlasvu.streamlit.app/"
      ],
      "metadata": {
        "id": "7RSnnraMl-i2"
      }
    },
    {
      "cell_type": "code",
      "execution_count": 1,
      "metadata": {
        "id": "cwsFpwWOk0wP",
        "colab": {
          "base_uri": "https://localhost:8080/"
        },
        "outputId": "cb45b202-287b-46f3-a6c6-bb5b1e280c8b"
      },
      "outputs": [
        {
          "output_type": "stream",
          "name": "stdout",
          "text": [
            "\u001b[?25l   \u001b[90m━━━━━━━━━━━━━━━━━━━━━━━━━━━━━━━━━━━━━━━━\u001b[0m \u001b[32m0.0/41.5 kB\u001b[0m \u001b[31m?\u001b[0m eta \u001b[36m-:--:--\u001b[0m\r\u001b[2K   \u001b[91m━━━━━━━━━━━━━━━━━━━━━━━━━━━━━━━━━━━━━━━\u001b[0m\u001b[90m╺\u001b[0m \u001b[32m41.0/41.5 kB\u001b[0m \u001b[31m66.6 MB/s\u001b[0m eta \u001b[36m0:00:01\u001b[0m\r\u001b[2K   \u001b[90m━━━━━━━━━━━━━━━━━━━━━━━━━━━━━━━━━━━━━━━━\u001b[0m \u001b[32m41.5/41.5 kB\u001b[0m \u001b[31m877.3 kB/s\u001b[0m eta \u001b[36m0:00:00\u001b[0m\n",
            "\u001b[?25h"
          ]
        }
      ],
      "source": [
        "!pip install langchain google-generativeai langchain_google_genai -q"
      ]
    },
    {
      "cell_type": "code",
      "source": [
        "from google.colab import userdata\n",
        "GOOGLE_API_KEY = userdata.get('GOOGLE_API_KEY')"
      ],
      "metadata": {
        "id": "HCgl1p0alLG5"
      },
      "execution_count": 2,
      "outputs": []
    },
    {
      "cell_type": "code",
      "source": [
        "from langchain_core.tools import tool\n",
        "import requests\n",
        "@tool\n",
        "def calculator(expression: str) -> float:\n",
        "    \"\"\"\n",
        "    Evaluate a mathematical expression and return the result.\n",
        "\n",
        "    Parameters:\n",
        "    expression (str): A string containing the mathematical expression to evaluate.\n",
        "\n",
        "    Returns:\n",
        "    float: The result of the evaluated expression.\n",
        "\n",
        "    Examples:\n",
        "    >>> evaluate_expression(\"2 + 3 * 4\")\n",
        "    14.0\n",
        "    >>> evaluate_expression(\"(10 / 2) + 8\")\n",
        "    13.0\n",
        "\n",
        "    Note:\n",
        "    - This function uses Python's `eval()` to calculate the result.\n",
        "    - Ensure the input is sanitized to avoid malicious code execution.\n",
        "    \"\"\"\n",
        "    try:\n",
        "        # Evaluate the expression safely\n",
        "        result = eval(expression, {\"__builtins__\": {}})\n",
        "        return float(result)\n",
        "    except Exception as e:\n",
        "        print(f\"Error evaluating expression: {e}\")\n",
        "        return None\n",
        "\n",
        "\n",
        "@tool\n",
        "def get_stock_price(symbol: str) -> str:\n",
        "    \"\"\"Fetches the current stock price of a company based on its stock symbol using the Polygon API.\n",
        "\n",
        "    Args:\n",
        "        symbol (str): The stock symbol of the company (e.g., 'AAPL' for Apple, 'GOOGL' for Google).\n",
        "\n",
        "    Returns:\n",
        "        str: A message containing the current stock price of the company.\n",
        "\n",
        "    Raises:\n",
        "        HTTPError: If the HTTP request to the stock API fails (e.g., 404 or 500 status).\n",
        "        RequestException: If there is an issue with the request itself (e.g., connection error).\n",
        "        Exception: For any other unexpected errors during the execution of the function.\n",
        "\n",
        "    \"\"\"\n",
        "    api_key = \"2bx0DyQuypHfwohF46294_29KpFtMKzt\"  # Replace this with your actual secret API key from Polygon\n",
        "    url = f\"https://api.polygon.io/v2/aggs/ticker/{symbol}/prev\"  # Polygon endpoint for previous close price\n",
        "\n",
        "    try:\n",
        "        # Send a GET request with the API key\n",
        "        response = requests.get(url, params={'apiKey': api_key})\n",
        "        response.raise_for_status()  # Raise HTTPError for bad responses (4xx, 5xx)\n",
        "\n",
        "        # Assuming the data contains 'close' in the response for the last closing price\n",
        "        data = response.json()\n",
        "        price = data.get('results', [{}])[0].get('c')  # 'c' is the closing price\n",
        "\n",
        "        if price:\n",
        "            return f\"Tool used: get_stock_price\\n get_stock_price tool is used to find The current price of {symbol} is ${price}\"\n",
        "        else:\n",
        "            return f\"Error: Could not retrieve stock data for {symbol}.\\nTool used: get_stock_price\"\n",
        "\n",
        "    except requests.exceptions.HTTPError as http_err:\n",
        "        return f\"HTTP error occurred: {http_err}\\nTool used: get_stock_price\"\n",
        "    except requests.exceptions.RequestException as req_err:\n",
        "        return f\"Request error occurred: {req_err}\\nTool used: get_stock_price\"\n",
        "    except Exception as err:\n",
        "        return f\"An unexpected error occurred: {err}\\nTool used: get_stock_price\"\n"
      ],
      "metadata": {
        "id": "8B_BIVN52vY6"
      },
      "execution_count": 3,
      "outputs": []
    },
    {
      "cell_type": "code",
      "source": [
        "tools = [calculator,get_stock_price]"
      ],
      "metadata": {
        "id": "0Hcx0YRr20aj"
      },
      "execution_count": 4,
      "outputs": []
    },
    {
      "cell_type": "code",
      "source": [
        "from langchain_google_genai import ChatGoogleGenerativeAI\n",
        "\n",
        "llm = ChatGoogleGenerativeAI(model = \"gemini-2.0-flash-exp\" , api_key=GOOGLE_API_KEY)"
      ],
      "metadata": {
        "id": "gVYC4zzD3AIU"
      },
      "execution_count": 5,
      "outputs": []
    },
    {
      "cell_type": "code",
      "source": [
        "from langchain.agents import initialize_agent, AgentType"
      ],
      "metadata": {
        "id": "bAhMUcdmyYbd"
      },
      "execution_count": 6,
      "outputs": []
    },
    {
      "cell_type": "code",
      "source": [
        "agent = initialize_agent(tools, llm , agent=AgentType.STRUCTURED_CHAT_ZERO_SHOT_REACT_DESCRIPTION )"
      ],
      "metadata": {
        "id": "znp6Qa1q07Ju",
        "colab": {
          "base_uri": "https://localhost:8080/"
        },
        "outputId": "e816a538-c95f-4356-c9de-faef1481c14d"
      },
      "execution_count": 7,
      "outputs": [
        {
          "output_type": "stream",
          "name": "stderr",
          "text": [
            "<ipython-input-7-a14b04c8fa12>:1: LangChainDeprecationWarning: LangChain agents will continue to be supported, but it is recommended for new use cases to be built with LangGraph. LangGraph offers a more flexible and full-featured framework for building agents, including support for tool-calling, persistence of state, and human-in-the-loop workflows. For details, refer to the `LangGraph documentation <https://langchain-ai.github.io/langgraph/>`_ as well as guides for `Migrating from AgentExecutor <https://python.langchain.com/docs/how_to/migrate_agent/>`_ and LangGraph's `Pre-built ReAct agent <https://langchain-ai.github.io/langgraph/how-tos/create-react-agent/>`_.\n",
            "  agent = initialize_agent(tools, llm , agent=AgentType.STRUCTURED_CHAT_ZERO_SHOT_REACT_DESCRIPTION )\n"
          ]
        }
      ]
    },
    {
      "cell_type": "code",
      "source": [
        "response =  agent.invoke({\"input\":\"what is 2 multiply by 3\"})\n",
        "response[\"output\"]"
      ],
      "metadata": {
        "colab": {
          "base_uri": "https://localhost:8080/",
          "height": 35
        },
        "id": "ndIrUurL3coU",
        "outputId": "9f53e865-12e8-446a-87fb-690edcecce61"
      },
      "execution_count": 8,
      "outputs": [
        {
          "output_type": "execute_result",
          "data": {
            "text/plain": [
              "'2 multiplied by 3 is 6.'"
            ],
            "application/vnd.google.colaboratory.intrinsic+json": {
              "type": "string"
            }
          },
          "metadata": {},
          "execution_count": 8
        }
      ]
    },
    {
      "cell_type": "code",
      "source": [
        "response =  agent.invoke({\"input\":\"what is stock price of tata\"})\n",
        "response[\"output\"]"
      ],
      "metadata": {
        "colab": {
          "base_uri": "https://localhost:8080/",
          "height": 35
        },
        "id": "Jdn-2OSw3Hd1",
        "outputId": "359122a1-61a7-4c24-df08-8c5744a0fba9"
      },
      "execution_count": 9,
      "outputs": [
        {
          "output_type": "execute_result",
          "data": {
            "text/plain": [
              "'The current stock price of Tata Motors (TTM) is $25.14.'"
            ],
            "application/vnd.google.colaboratory.intrinsic+json": {
              "type": "string"
            }
          },
          "metadata": {},
          "execution_count": 9
        }
      ]
    }
  ]
}